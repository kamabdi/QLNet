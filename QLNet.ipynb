{
  "nbformat": 4,
  "nbformat_minor": 0,
  "metadata": {
    "colab": {
      "name": "QLNet.ipynb",
      "provenance": [],
      "collapsed_sections": [],
      "authorship_tag": "ABX9TyNFPSA7xZf/irFqe+yc73Kv",
      "include_colab_link": true
    },
    "kernelspec": {
      "name": "python3",
      "display_name": "Python 3"
    },
    "accelerator": "GPU"
  },
  "cells": [
    {
      "cell_type": "markdown",
      "metadata": {
        "id": "view-in-github",
        "colab_type": "text"
      },
      "source": [
        "<a href=\"https://colab.research.google.com/github/kamabdi/QLNet/blob/master/QLNet.ipynb\" target=\"_parent\"><img src=\"https://colab.research.google.com/assets/colab-badge.svg\" alt=\"Open In Colab\"/></a>"
      ]
    },
    {
      "cell_type": "markdown",
      "metadata": {
        "id": "Qjb20A4k-iOg",
        "colab_type": "text"
      },
      "source": [
        "Clone the project code from github repo"
      ]
    },
    {
      "cell_type": "code",
      "metadata": {
        "id": "DrFQUHhp-fBC",
        "colab_type": "code",
        "colab": {}
      },
      "source": [
        "!git clone https://github.com/kamabdi/QLNet.git"
      ],
      "execution_count": null,
      "outputs": []
    },
    {
      "cell_type": "code",
      "metadata": {
        "id": "APK7i6EEbAWq",
        "colab_type": "code",
        "colab": {}
      },
      "source": [
        "#!rm -rf /content/QLNet"
      ],
      "execution_count": 7,
      "outputs": []
    },
    {
      "cell_type": "markdown",
      "metadata": {
        "id": "8Ow8o4Bn_8nK",
        "colab_type": "text"
      },
      "source": [
        "Train baseline model"
      ]
    },
    {
      "cell_type": "code",
      "metadata": {
        "id": "e65nn4oN_8Fi",
        "colab_type": "code",
        "colab": {}
      },
      "source": [
        "!python QLNet/train_baseline.py"
      ],
      "execution_count": null,
      "outputs": []
    },
    {
      "cell_type": "markdown",
      "metadata": {
        "id": "27KBipNWEtiy",
        "colab_type": "text"
      },
      "source": [
        "Construct look-up table for approximation"
      ]
    },
    {
      "cell_type": "code",
      "metadata": {
        "id": "pQJ7fXDjEs6u",
        "colab_type": "code",
        "colab": {}
      },
      "source": [
        "! python QLNet/construct_dict.py"
      ],
      "execution_count": null,
      "outputs": []
    },
    {
      "cell_type": "markdown",
      "metadata": {
        "id": "amw7k_1hLfIg",
        "colab_type": "text"
      },
      "source": [
        "Quantize one layer and retrain model"
      ]
    },
    {
      "cell_type": "code",
      "metadata": {
        "id": "bEguagPLLcK9",
        "colab_type": "code",
        "colab": {}
      },
      "source": [
        "!python QLNet/train_quantized.py"
      ],
      "execution_count": null,
      "outputs": []
    }
  ]
}